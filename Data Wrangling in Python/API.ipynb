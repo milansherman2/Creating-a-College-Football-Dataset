{
 "cells": [
  {
   "cell_type": "markdown",
   "id": "006d7cd1",
   "metadata": {},
   "source": [
    "## Term Project Milestone 4\n",
    "### DSC 540\n",
    "#### Milan Sherman"
   ]
  },
  {
   "cell_type": "markdown",
   "id": "d66bc035",
   "metadata": {},
   "source": [
    "A developer actually a created college football data (cfbd) package, which was very convenient.  I just had to spend some time looking over the docs in order to understand the classes and methods available and what I needed to use to get the data that I needed.  The data I'm pulling from the API are the final college football rankings for the 2010-2021 seasons, as those are the seasons that existed in my flat file data source.  Quick summary of my data sources:\n",
    "- Offensive statistics for every college football team from 2010-2021 (flat file)\n",
    "- Defensive statistics for every college football team from 2010-2021 (web scraping)\n",
    "- Top 25 Final Rankings for 2010-2021 (API)\n",
    "So the final dataframe from this data source will be the Top 25 Teams in the final rankings for each season 2010-2021.  I will left join this data on to a combination of the above two data sources, as each of those sources rank every team while this data will only have the Top 25."
   ]
  },
  {
   "cell_type": "code",
   "execution_count": 1,
   "id": "2e6f7e22",
   "metadata": {},
   "outputs": [],
   "source": [
    "import cfbd\n",
    "# create a configuration object to configure the api authorization using the api key\n",
    "config = cfbd.Configuration()\n",
    "config.api_key['Authorization'] = '3BTTYOSaARYTxZLkq1SeyIazENP+SHb9e4/VwdAH8i+5vYZ1SZ/phIK2PVS+J+le'\n",
    "config.api_key_prefix['Authorization'] = 'Bearer'\n",
    "\n",
    "# instantiate the object\n",
    "api_instance = cfbd.RankingsApi(cfbd.ApiClient(config))\n",
    "# create lists for the season and rankings\n",
    "poll=[]\n",
    "season=[]\n",
    "final_poll=[]\n",
    "# I am pulling the rankings for years 2010-2021\n",
    "# postseason, week 1 gets the final rankings for the seaon\n",
    "for i in range(0, 12):\n",
    "    rank=api_instance.get_rankings(year=i+2010, season_type = 'postseason', week=1)\n",
    "# rank is a list object, and rank[0] is a RankingWeek object with methods for season and poll\n",
    "# season gives the year of the season, and polls yields a dictionary of dictionaries,\n",
    "# where each dictionary is a different ranking/polling system, e.g. AP Top 25, Coaches Poll, Playoff Committee Rankings, etc.\n",
    "    \n",
    "#     I save each season to add this as a column in the final df\n",
    "    season.append(rank[0].season)\n",
    "    ranking=rank[0].polls\n",
    "    for j in range(len(ranking)):\n",
    "#         for each season, get the poll/ranking system, and the rankings by team for that poll\n",
    "        final_poll.append(ranking[j])"
   ]
  },
  {
   "cell_type": "code",
   "execution_count": 2,
   "id": "cffd8a6d",
   "metadata": {},
   "outputs": [],
   "source": [
    "# I really wanted the final rankings based on the Playoff Committee Ranking system\n",
    "# but the playoffs didn't start until 2014\n",
    "# the AP Top 25 was the only poll/ranking system that we included every year, and I think it has aligned with \n",
    "# the Playoff Committee Ranking poll since the playoffs have started, so that is the poll I'm using\n",
    "ap25=[]\n",
    "for i in range(len(final_poll)):\n",
    "    if final_poll[i]['poll']=='AP Top 25':\n",
    "        ap25.append(final_poll[i]['ranks'])"
   ]
  },
  {
   "cell_type": "code",
   "execution_count": 3,
   "id": "a59d00ac",
   "metadata": {},
   "outputs": [],
   "source": [
    "# add the season to the dictionary for each seaon/team\n",
    "for i in range(len(ap25)):\n",
    "    for j in range(len(ap25[i])):\n",
    "        ap25[i][j].update({'season':season[i]})"
   ]
  },
  {
   "cell_type": "code",
   "execution_count": 4,
   "id": "b55f5cd8",
   "metadata": {},
   "outputs": [],
   "source": [
    "import pandas as pd\n",
    "# create a dataframe for each year from the team/season dictionary\n",
    "# create a list of dataframes, one for each year\n",
    "dfs=[]\n",
    "for i in range(len(ap25)):\n",
    "    df=pd.DataFrame.from_records(ap25[i])\n",
    "    df.drop(['firstPlaceVotes', 'points'], axis=1, inplace=True)\n",
    "    dfs.append(df)"
   ]
  },
  {
   "cell_type": "code",
   "execution_count": 5,
   "id": "b915cec0",
   "metadata": {},
   "outputs": [
    {
     "data": {
      "text/html": [
       "<div>\n",
       "<style scoped>\n",
       "    .dataframe tbody tr th:only-of-type {\n",
       "        vertical-align: middle;\n",
       "    }\n",
       "\n",
       "    .dataframe tbody tr th {\n",
       "        vertical-align: top;\n",
       "    }\n",
       "\n",
       "    .dataframe thead th {\n",
       "        text-align: right;\n",
       "    }\n",
       "</style>\n",
       "<table border=\"1\" class=\"dataframe\">\n",
       "  <thead>\n",
       "    <tr style=\"text-align: right;\">\n",
       "      <th></th>\n",
       "      <th>rank</th>\n",
       "      <th>school</th>\n",
       "      <th>conference</th>\n",
       "      <th>season</th>\n",
       "    </tr>\n",
       "  </thead>\n",
       "  <tbody>\n",
       "    <tr>\n",
       "      <th>0</th>\n",
       "      <td>1</td>\n",
       "      <td>Auburn</td>\n",
       "      <td>SEC</td>\n",
       "      <td>2010</td>\n",
       "    </tr>\n",
       "    <tr>\n",
       "      <th>1</th>\n",
       "      <td>2</td>\n",
       "      <td>TCU</td>\n",
       "      <td>Mountain West</td>\n",
       "      <td>2010</td>\n",
       "    </tr>\n",
       "    <tr>\n",
       "      <th>2</th>\n",
       "      <td>3</td>\n",
       "      <td>Oregon</td>\n",
       "      <td>Pac-10</td>\n",
       "      <td>2010</td>\n",
       "    </tr>\n",
       "    <tr>\n",
       "      <th>3</th>\n",
       "      <td>4</td>\n",
       "      <td>Stanford</td>\n",
       "      <td>Pac-10</td>\n",
       "      <td>2010</td>\n",
       "    </tr>\n",
       "    <tr>\n",
       "      <th>4</th>\n",
       "      <td>5</td>\n",
       "      <td>Ohio State</td>\n",
       "      <td>Big Ten</td>\n",
       "      <td>2010</td>\n",
       "    </tr>\n",
       "    <tr>\n",
       "      <th>...</th>\n",
       "      <td>...</td>\n",
       "      <td>...</td>\n",
       "      <td>...</td>\n",
       "      <td>...</td>\n",
       "    </tr>\n",
       "    <tr>\n",
       "      <th>20</th>\n",
       "      <td>21</td>\n",
       "      <td>Arkansas</td>\n",
       "      <td>SEC</td>\n",
       "      <td>2021</td>\n",
       "    </tr>\n",
       "    <tr>\n",
       "      <th>21</th>\n",
       "      <td>22</td>\n",
       "      <td>Oregon</td>\n",
       "      <td>Pac-12</td>\n",
       "      <td>2021</td>\n",
       "    </tr>\n",
       "    <tr>\n",
       "      <th>22</th>\n",
       "      <td>23</td>\n",
       "      <td>Iowa</td>\n",
       "      <td>Big Ten</td>\n",
       "      <td>2021</td>\n",
       "    </tr>\n",
       "    <tr>\n",
       "      <th>23</th>\n",
       "      <td>24</td>\n",
       "      <td>Utah State</td>\n",
       "      <td>Mountain West</td>\n",
       "      <td>2021</td>\n",
       "    </tr>\n",
       "    <tr>\n",
       "      <th>24</th>\n",
       "      <td>25</td>\n",
       "      <td>San Diego State</td>\n",
       "      <td>Mountain West</td>\n",
       "      <td>2021</td>\n",
       "    </tr>\n",
       "  </tbody>\n",
       "</table>\n",
       "<p>300 rows × 4 columns</p>\n",
       "</div>"
      ],
      "text/plain": [
       "    rank           school     conference  season\n",
       "0      1           Auburn            SEC    2010\n",
       "1      2              TCU  Mountain West    2010\n",
       "2      3           Oregon         Pac-10    2010\n",
       "3      4         Stanford         Pac-10    2010\n",
       "4      5       Ohio State        Big Ten    2010\n",
       "..   ...              ...            ...     ...\n",
       "20    21         Arkansas            SEC    2021\n",
       "21    22           Oregon         Pac-12    2021\n",
       "22    23             Iowa        Big Ten    2021\n",
       "23    24       Utah State  Mountain West    2021\n",
       "24    25  San Diego State  Mountain West    2021\n",
       "\n",
       "[300 rows x 4 columns]"
      ]
     },
     "execution_count": 5,
     "metadata": {},
     "output_type": "execute_result"
    }
   ],
   "source": [
    "# concatenate the 12 dataframes into a single dataframe\n",
    "rankings = pd.concat(dfs)\n",
    "rankings"
   ]
  },
  {
   "cell_type": "code",
   "execution_count": 6,
   "id": "c64baef9",
   "metadata": {},
   "outputs": [
    {
     "data": {
      "text/plain": [
       "rank           int64\n",
       "school        object\n",
       "conference    object\n",
       "season         int64\n",
       "dtype: object"
      ]
     },
     "execution_count": 6,
     "metadata": {},
     "output_type": "execute_result"
    }
   ],
   "source": [
    "# Check data types\n",
    "rankings.dtypes"
   ]
  },
  {
   "cell_type": "markdown",
   "id": "d6d98334",
   "metadata": {},
   "source": [
    "These look right - integer for the rank (1-25) and season (2010-2021), and character for school name and conference"
   ]
  },
  {
   "cell_type": "markdown",
   "id": "7793210f",
   "metadata": {},
   "source": [
    "Below I rename the columns to align with the dataframes from my flat file and web scraping sources to make it easier to join"
   ]
  },
  {
   "cell_type": "code",
   "execution_count": 7,
   "id": "5d21b090",
   "metadata": {},
   "outputs": [
    {
     "data": {
      "text/html": [
       "<div>\n",
       "<style scoped>\n",
       "    .dataframe tbody tr th:only-of-type {\n",
       "        vertical-align: middle;\n",
       "    }\n",
       "\n",
       "    .dataframe tbody tr th {\n",
       "        vertical-align: top;\n",
       "    }\n",
       "\n",
       "    .dataframe thead th {\n",
       "        text-align: right;\n",
       "    }\n",
       "</style>\n",
       "<table border=\"1\" class=\"dataframe\">\n",
       "  <thead>\n",
       "    <tr style=\"text-align: right;\">\n",
       "      <th></th>\n",
       "      <th>Final Rank</th>\n",
       "      <th>Team</th>\n",
       "      <th>Conference</th>\n",
       "      <th>Year</th>\n",
       "    </tr>\n",
       "  </thead>\n",
       "  <tbody>\n",
       "    <tr>\n",
       "      <th>0</th>\n",
       "      <td>1</td>\n",
       "      <td>Auburn</td>\n",
       "      <td>SEC</td>\n",
       "      <td>2010</td>\n",
       "    </tr>\n",
       "    <tr>\n",
       "      <th>1</th>\n",
       "      <td>2</td>\n",
       "      <td>TCU</td>\n",
       "      <td>Mountain West</td>\n",
       "      <td>2010</td>\n",
       "    </tr>\n",
       "    <tr>\n",
       "      <th>2</th>\n",
       "      <td>3</td>\n",
       "      <td>Oregon</td>\n",
       "      <td>Pac-10</td>\n",
       "      <td>2010</td>\n",
       "    </tr>\n",
       "    <tr>\n",
       "      <th>3</th>\n",
       "      <td>4</td>\n",
       "      <td>Stanford</td>\n",
       "      <td>Pac-10</td>\n",
       "      <td>2010</td>\n",
       "    </tr>\n",
       "    <tr>\n",
       "      <th>4</th>\n",
       "      <td>5</td>\n",
       "      <td>Ohio State</td>\n",
       "      <td>Big Ten</td>\n",
       "      <td>2010</td>\n",
       "    </tr>\n",
       "  </tbody>\n",
       "</table>\n",
       "</div>"
      ],
      "text/plain": [
       "   Final Rank        Team     Conference  Year\n",
       "0           1      Auburn            SEC  2010\n",
       "1           2         TCU  Mountain West  2010\n",
       "2           3      Oregon         Pac-10  2010\n",
       "3           4    Stanford         Pac-10  2010\n",
       "4           5  Ohio State        Big Ten  2010"
      ]
     },
     "execution_count": 7,
     "metadata": {},
     "output_type": "execute_result"
    }
   ],
   "source": [
    "rankings = rankings.rename(columns = {'rank':'Final Rank','school':'Team','conference':'Conference','season':'Year'})\n",
    "rankings.head()"
   ]
  },
  {
   "cell_type": "markdown",
   "id": "254fffc2",
   "metadata": {},
   "source": [
    "I'm not really sure what else I can do with this in terms of transformations.  The data types are right, and the headers are set up to make merging with my other data sources easier.  Most of my time was spent getting familiar with the classes and methods for cfbd package, understanding the structure of the data (list of dictionary of dictionaries), and unpacking/unraveling the data that I wanted (Final Top 25 for each year).  \n",
    "\n",
    "My goal is to create a dataset that will allow analysis of a variety of offensive/defensive statistics to determine which are most predictive of a team's final ranking."
   ]
  },
  {
   "cell_type": "code",
   "execution_count": 8,
   "id": "793f1b41",
   "metadata": {},
   "outputs": [
    {
     "data": {
      "text/plain": [
       "'C:\\\\Users\\\\milan\\\\Documents\\\\GitHub\\\\DS-540\\\\Term Project'"
      ]
     },
     "execution_count": 8,
     "metadata": {},
     "output_type": "execute_result"
    }
   ],
   "source": [
    "import os\n",
    "os.getcwd()"
   ]
  },
  {
   "cell_type": "code",
   "execution_count": 9,
   "id": "e2b2f261",
   "metadata": {},
   "outputs": [],
   "source": [
    "rankings.to_csv('Final Rankings.csv')"
   ]
  },
  {
   "cell_type": "code",
   "execution_count": null,
   "id": "a65b6387",
   "metadata": {},
   "outputs": [],
   "source": []
  }
 ],
 "metadata": {
  "kernelspec": {
   "display_name": "Python 3 (ipykernel)",
   "language": "python",
   "name": "python3"
  },
  "language_info": {
   "codemirror_mode": {
    "name": "ipython",
    "version": 3
   },
   "file_extension": ".py",
   "mimetype": "text/x-python",
   "name": "python",
   "nbconvert_exporter": "python",
   "pygments_lexer": "ipython3",
   "version": "3.9.7"
  }
 },
 "nbformat": 4,
 "nbformat_minor": 5
}
